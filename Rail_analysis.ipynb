{
 "cells": [
  {
   "cell_type": "markdown",
   "metadata": {},
   "source": [
    "### 1. - Load and Clean Data"
   ]
  },
  {
   "cell_type": "code",
   "execution_count": 1,
   "metadata": {},
   "outputs": [],
   "source": [
    "import numpy as np\n",
    "import pandas as pd\n",
    "import matplotlib.pyplot as plt\n",
    "import seaborn as sns"
   ]
  },
  {
   "cell_type": "markdown",
   "metadata": {},
   "source": [
    "The original objective of the \n",
    "(challenge)[https://connect.informs.org/railway-applications/new-item3/problem-solving-competition681/new-item9]  \n",
    "is to determine the color of the tag at the date of the inspection run.\n",
    "\n",
    "\n",
    "For example:\n",
    "\n",
    "Evaluation data includes the traffic recorded after the last inspection run, in this case\n",
    "**18 Oct**, and the planned inspection runs. Let’s assume the next inspection runs is\n",
    "planned on:\n",
    "**10 Dec**\n",
    "\n",
    "The purpose of **THIS** study is to determine the color of the tag **at the moment** when the information was obtained (right now)"
   ]
  },
  {
   "cell_type": "code",
   "execution_count": 2,
   "metadata": {},
   "outputs": [],
   "source": [
    "train_data = pd.read_excel('./DatasetSample/Data/Training.xlsx')"
   ]
  },
  {
   "cell_type": "code",
   "execution_count": 3,
   "metadata": {},
   "outputs": [
    {
     "name": "stdout",
     "output_type": "stream",
     "text": [
      "Index(['Variable Name', 'LINE_SEG_NBR', 'MILEPOST', 'TRACK_SDTK_NBR',\n",
      "       'TEST_DT', 'DEF_NBR', 'GEO_CAR_NME', 'DEF_PRTY', 'DEF_LGTH',\n",
      "       'DEF_AMPLTD', 'TSC_CD', 'CLASS', 'TEST_FSPD', 'TEST_PSPD', 'DFCT_TYPE'],\n",
      "      dtype='object')\n",
      "15\n"
     ]
    }
   ],
   "source": [
    "print((train_data.columns))\n",
    "print(len(train_data.columns))"
   ]
  },
  {
   "cell_type": "code",
   "execution_count": 4,
   "metadata": {},
   "outputs": [
    {
     "data": {
      "text/html": [
       "<div>\n",
       "<style scoped>\n",
       "    .dataframe tbody tr th:only-of-type {\n",
       "        vertical-align: middle;\n",
       "    }\n",
       "\n",
       "    .dataframe tbody tr th {\n",
       "        vertical-align: top;\n",
       "    }\n",
       "\n",
       "    .dataframe thead th {\n",
       "        text-align: right;\n",
       "    }\n",
       "</style>\n",
       "<table border=\"1\" class=\"dataframe\">\n",
       "  <thead>\n",
       "    <tr style=\"text-align: right;\">\n",
       "      <th></th>\n",
       "      <th>Variable Name</th>\n",
       "      <th>LINE_SEG_NBR</th>\n",
       "      <th>MILEPOST</th>\n",
       "      <th>TRACK_SDTK_NBR</th>\n",
       "      <th>TEST_DT</th>\n",
       "      <th>DEF_NBR</th>\n",
       "      <th>GEO_CAR_NME</th>\n",
       "      <th>DEF_PRTY</th>\n",
       "      <th>DEF_LGTH</th>\n",
       "      <th>DEF_AMPLTD</th>\n",
       "      <th>TSC_CD</th>\n",
       "      <th>CLASS</th>\n",
       "      <th>TEST_FSPD</th>\n",
       "      <th>TEST_PSPD</th>\n",
       "      <th>DFCT_TYPE</th>\n",
       "    </tr>\n",
       "  </thead>\n",
       "  <tbody>\n",
       "    <tr>\n",
       "      <th>0</th>\n",
       "      <td>Type</td>\n",
       "      <td>INTEGER</td>\n",
       "      <td>DECIMAL</td>\n",
       "      <td>CHARACTER</td>\n",
       "      <td>DATE</td>\n",
       "      <td>INTEGER</td>\n",
       "      <td>CHARACTER</td>\n",
       "      <td>CHARACTER</td>\n",
       "      <td>INTEGER</td>\n",
       "      <td>DECIMAL</td>\n",
       "      <td>CHARACTER</td>\n",
       "      <td>CHARACTER</td>\n",
       "      <td>CHARACTER</td>\n",
       "      <td>CHARACTER</td>\n",
       "      <td>CHARACTER</td>\n",
       "    </tr>\n",
       "    <tr>\n",
       "      <th>1</th>\n",
       "      <td>Size</td>\n",
       "      <td>1</td>\n",
       "      <td>12</td>\n",
       "      <td>6</td>\n",
       "      <td>4</td>\n",
       "      <td>4</td>\n",
       "      <td>8</td>\n",
       "      <td>15</td>\n",
       "      <td>4</td>\n",
       "      <td>5</td>\n",
       "      <td>1</td>\n",
       "      <td>1</td>\n",
       "      <td>3</td>\n",
       "      <td>3</td>\n",
       "      <td>8</td>\n",
       "    </tr>\n",
       "    <tr>\n",
       "      <th>2</th>\n",
       "      <td>Description</td>\n",
       "      <td>Every track on the railroad has a unique ident...</td>\n",
       "      <td>Point on the track.</td>\n",
       "      <td>Distingish indivuidaul track segments. Mainlin...</td>\n",
       "      <td>The date on which testing was performed.</td>\n",
       "      <td>Defect number. Every defect detetected by a Ge...</td>\n",
       "      <td>Geometry cars names. Examples of names include...</td>\n",
       "      <td>Yellow or red.</td>\n",
       "      <td>Length of defect in feet, as reported by the m...</td>\n",
       "      <td>Defect amplitude -- maximum size of defect in ...</td>\n",
       "      <td>Track codes including tangent, spiral and curve.</td>\n",
       "      <td>Class of tracks. All tracks get a number betwe...</td>\n",
       "      <td>Operating speed for freight trains.</td>\n",
       "      <td>Operating speed for passenger trains. If the v...</td>\n",
       "      <td>Defect type--the geormetric defect type such a...</td>\n",
       "    </tr>\n",
       "  </tbody>\n",
       "</table>\n",
       "</div>"
      ],
      "text/plain": [
       "  Variable Name                                       LINE_SEG_NBR  \\\n",
       "0          Type                                            INTEGER   \n",
       "1          Size                                                  1   \n",
       "2   Description  Every track on the railroad has a unique ident...   \n",
       "\n",
       "              MILEPOST                                     TRACK_SDTK_NBR  \\\n",
       "0              DECIMAL                                          CHARACTER   \n",
       "1                   12                                                  6   \n",
       "2  Point on the track.  Distingish indivuidaul track segments. Mainlin...   \n",
       "\n",
       "                                    TEST_DT  \\\n",
       "0                                      DATE   \n",
       "1                                         4   \n",
       "2  The date on which testing was performed.   \n",
       "\n",
       "                                             DEF_NBR  \\\n",
       "0                                            INTEGER   \n",
       "1                                                  4   \n",
       "2  Defect number. Every defect detetected by a Ge...   \n",
       "\n",
       "                                         GEO_CAR_NME        DEF_PRTY  \\\n",
       "0                                          CHARACTER       CHARACTER   \n",
       "1                                                  8              15   \n",
       "2  Geometry cars names. Examples of names include...  Yellow or red.   \n",
       "\n",
       "                                            DEF_LGTH  \\\n",
       "0                                            INTEGER   \n",
       "1                                                  4   \n",
       "2  Length of defect in feet, as reported by the m...   \n",
       "\n",
       "                                          DEF_AMPLTD  \\\n",
       "0                                            DECIMAL   \n",
       "1                                                  5   \n",
       "2  Defect amplitude -- maximum size of defect in ...   \n",
       "\n",
       "                                             TSC_CD  \\\n",
       "0                                         CHARACTER   \n",
       "1                                                 1   \n",
       "2  Track codes including tangent, spiral and curve.   \n",
       "\n",
       "                                               CLASS  \\\n",
       "0                                          CHARACTER   \n",
       "1                                                  1   \n",
       "2  Class of tracks. All tracks get a number betwe...   \n",
       "\n",
       "                             TEST_FSPD  \\\n",
       "0                            CHARACTER   \n",
       "1                                    3   \n",
       "2  Operating speed for freight trains.   \n",
       "\n",
       "                                           TEST_PSPD  \\\n",
       "0                                          CHARACTER   \n",
       "1                                                  3   \n",
       "2  Operating speed for passenger trains. If the v...   \n",
       "\n",
       "                                           DFCT_TYPE  \n",
       "0                                          CHARACTER  \n",
       "1                                                  8  \n",
       "2  Defect type--the geormetric defect type such a...  "
      ]
     },
     "execution_count": 4,
     "metadata": {},
     "output_type": "execute_result"
    }
   ],
   "source": [
    "train_data[:3]"
   ]
  },
  {
   "cell_type": "code",
   "execution_count": 5,
   "metadata": {},
   "outputs": [
    {
     "name": "stdout",
     "output_type": "stream",
     "text": [
      "LINE_SEG_NBR:\n",
      "Every track on the railroad has a unique identifying line segment number. Could be single or double tracks. Using line segment (LINE_SEG_NBR) and mile post (MILPOST_START and MILEPOST_END) you can identify any location on the system.\n",
      "\n",
      "MILEPOST:\n",
      "Point on the track.\n",
      "\n",
      "TRACK_SDTK_NBR:\n",
      "Distingish indivuidaul track segments. Mainline & branch numbers: 0=SINGLE TRACK, 1-9=MULTIPLE MAIN LINES (For example, 1=NORTH MAIN, 2=SOUTH MAIN). Tracks outside of main/branch are referred to as side tracks. 5=SIDING TRACK\n",
      "\n",
      "TEST_DT:\n",
      "The date on which testing was performed.\n",
      "\n",
      "DEF_NBR:\n",
      "Defect number. Every defect detetected by a Gemoetry car gets a unique id.\n",
      "\n",
      "GEO_CAR_NME:\n",
      "Geometry cars names. Examples of names include: GEO105, GEO505  ETC..\n",
      "\n",
      "DEF_PRTY:\n",
      "Yellow or red.\n",
      "\n",
      "DEF_LGTH:\n",
      "Length of defect in feet, as reported by the measurement car.\n",
      "\n",
      "DEF_AMPLTD:\n",
      "Defect amplitude -- maximum size of defect in inches or degrees within defect length.\n",
      "\n",
      "TSC_CD:\n",
      "Track codes including tangent, spiral and curve.\n",
      "\n",
      "CLASS:\n",
      "Class of tracks. All tracks get a number between one and five. Each class represents operating speed limits for passenger and freight traffic. Class one has the lowest speed limit and class five has the highest speed limit.\n",
      "\n",
      "TEST_FSPD:\n",
      "Operating speed for freight trains.\n",
      "\n",
      "TEST_PSPD:\n",
      "Operating speed for passenger trains. If the value = 0, then it means that it does not have passenger traffic.\n",
      "\n",
      "DFCT_TYPE:\n",
      "Defect type--the geormetric defect type such as XLEVEL, SURFACE, DIP... \n",
      "\n"
     ]
    }
   ],
   "source": [
    "#train_data.iloc[2]['MILEPOST']\n",
    "## Show description \n",
    "for i in range(1,len(train_data.iloc[2])):\n",
    "    print(str(train_data.columns[i])+\":\")\n",
    "    print(str(train_data.iloc[2][i])+'\\n')\n",
    "    \n"
   ]
  },
  {
   "cell_type": "code",
   "execution_count": 6,
   "metadata": {},
   "outputs": [
    {
     "name": "stdout",
     "output_type": "stream",
     "text": [
      "358095\n",
      "(23873, 15)\n"
     ]
    }
   ],
   "source": [
    "print(train_data.size)\n",
    "print(train_data.shape)"
   ]
  },
  {
   "cell_type": "markdown",
   "metadata": {},
   "source": [
    "### 1.1 - Drop null and useless columns"
   ]
  },
  {
   "cell_type": "code",
   "execution_count": 7,
   "metadata": {},
   "outputs": [],
   "source": [
    "# Clean data, drop null data\n",
    "train_data=train_data.dropna(how='all')\n",
    "# Drop non-valueble data (first 3 rows)\n",
    "train_data = train_data[train_data['Variable Name'] !='Description']\n",
    "train_data = train_data[train_data['Variable Name'] !='Type']\n",
    "train_data = train_data[train_data['Variable Name'] !='Size']\n",
    "#Reset Index\n",
    "train_data=train_data.reset_index()\n",
    "#Drop useless columns (columns with all null values)\n",
    "train_data=train_data.dropna(axis=1, how='all')\n"
   ]
  },
  {
   "cell_type": "code",
   "execution_count": 8,
   "metadata": {},
   "outputs": [
    {
     "data": {
      "text/plain": [
       "15"
      ]
     },
     "execution_count": 8,
     "metadata": {},
     "output_type": "execute_result"
    }
   ],
   "source": [
    "len(train_data.columns)"
   ]
  },
  {
   "cell_type": "code",
   "execution_count": 9,
   "metadata": {},
   "outputs": [
    {
     "data": {
      "text/html": [
       "<div>\n",
       "<style scoped>\n",
       "    .dataframe tbody tr th:only-of-type {\n",
       "        vertical-align: middle;\n",
       "    }\n",
       "\n",
       "    .dataframe tbody tr th {\n",
       "        vertical-align: top;\n",
       "    }\n",
       "\n",
       "    .dataframe thead th {\n",
       "        text-align: right;\n",
       "    }\n",
       "</style>\n",
       "<table border=\"1\" class=\"dataframe\">\n",
       "  <thead>\n",
       "    <tr style=\"text-align: right;\">\n",
       "      <th></th>\n",
       "      <th>index</th>\n",
       "      <th>LINE_SEG_NBR</th>\n",
       "      <th>MILEPOST</th>\n",
       "      <th>TRACK_SDTK_NBR</th>\n",
       "      <th>TEST_DT</th>\n",
       "      <th>DEF_NBR</th>\n",
       "      <th>GEO_CAR_NME</th>\n",
       "      <th>DEF_PRTY</th>\n",
       "      <th>DEF_LGTH</th>\n",
       "      <th>DEF_AMPLTD</th>\n",
       "      <th>TSC_CD</th>\n",
       "      <th>CLASS</th>\n",
       "      <th>TEST_FSPD</th>\n",
       "      <th>TEST_PSPD</th>\n",
       "      <th>DFCT_TYPE</th>\n",
       "    </tr>\n",
       "  </thead>\n",
       "  <tbody>\n",
       "    <tr>\n",
       "      <th>603</th>\n",
       "      <td>629</td>\n",
       "      <td>4</td>\n",
       "      <td>0.7089</td>\n",
       "      <td>0</td>\n",
       "      <td>2013-04-10 00:00:00</td>\n",
       "      <td>1951</td>\n",
       "      <td>GEO 27</td>\n",
       "      <td>YEL</td>\n",
       "      <td>7</td>\n",
       "      <td>1.84</td>\n",
       "      <td>T</td>\n",
       "      <td>2</td>\n",
       "      <td>20</td>\n",
       "      <td>0</td>\n",
       "      <td>XLEVEL</td>\n",
       "    </tr>\n",
       "    <tr>\n",
       "      <th>4722</th>\n",
       "      <td>4748</td>\n",
       "      <td>1</td>\n",
       "      <td>0.80701</td>\n",
       "      <td>0</td>\n",
       "      <td>2012-04-20 00:00:00</td>\n",
       "      <td>14795</td>\n",
       "      <td>GEO107</td>\n",
       "      <td>YEL</td>\n",
       "      <td>7</td>\n",
       "      <td>-1.88</td>\n",
       "      <td>T</td>\n",
       "      <td>2</td>\n",
       "      <td>25</td>\n",
       "      <td>0</td>\n",
       "      <td>XLEVEL</td>\n",
       "    </tr>\n",
       "    <tr>\n",
       "      <th>4721</th>\n",
       "      <td>4747</td>\n",
       "      <td>1</td>\n",
       "      <td>0.81667</td>\n",
       "      <td>0</td>\n",
       "      <td>2012-04-20 00:00:00</td>\n",
       "      <td>14794</td>\n",
       "      <td>GEO107</td>\n",
       "      <td>YEL</td>\n",
       "      <td>17</td>\n",
       "      <td>-2</td>\n",
       "      <td>T</td>\n",
       "      <td>2</td>\n",
       "      <td>25</td>\n",
       "      <td>0</td>\n",
       "      <td>XLEVEL</td>\n",
       "    </tr>\n",
       "    <tr>\n",
       "      <th>21570</th>\n",
       "      <td>21596</td>\n",
       "      <td>1</td>\n",
       "      <td>0.87332</td>\n",
       "      <td>0</td>\n",
       "      <td>2007-06-22 00:00:00</td>\n",
       "      <td>40105</td>\n",
       "      <td>GEO107</td>\n",
       "      <td>YEL</td>\n",
       "      <td>12</td>\n",
       "      <td>-1.86</td>\n",
       "      <td>T</td>\n",
       "      <td>2</td>\n",
       "      <td>25</td>\n",
       "      <td>0</td>\n",
       "      <td>XLEVEL</td>\n",
       "    </tr>\n",
       "    <tr>\n",
       "      <th>3535</th>\n",
       "      <td>3561</td>\n",
       "      <td>1</td>\n",
       "      <td>1</td>\n",
       "      <td>0</td>\n",
       "      <td>2013-11-14 00:00:00</td>\n",
       "      <td>83707</td>\n",
       "      <td>GEO107</td>\n",
       "      <td>YEL</td>\n",
       "      <td>22</td>\n",
       "      <td>-1.97</td>\n",
       "      <td>T</td>\n",
       "      <td>2</td>\n",
       "      <td>25</td>\n",
       "      <td>0</td>\n",
       "      <td>XLEVEL</td>\n",
       "    </tr>\n",
       "    <tr>\n",
       "      <th>22212</th>\n",
       "      <td>22238</td>\n",
       "      <td>1</td>\n",
       "      <td>1</td>\n",
       "      <td>0</td>\n",
       "      <td>2007-08-23 00:00:00</td>\n",
       "      <td>51462</td>\n",
       "      <td>GEO107</td>\n",
       "      <td>YEL</td>\n",
       "      <td>13</td>\n",
       "      <td>-1.91</td>\n",
       "      <td>T</td>\n",
       "      <td>2</td>\n",
       "      <td>25</td>\n",
       "      <td>0</td>\n",
       "      <td>XLEVEL</td>\n",
       "    </tr>\n",
       "    <tr>\n",
       "      <th>3536</th>\n",
       "      <td>3562</td>\n",
       "      <td>1</td>\n",
       "      <td>1.01458</td>\n",
       "      <td>0</td>\n",
       "      <td>2013-11-14 00:00:00</td>\n",
       "      <td>83708</td>\n",
       "      <td>GEO107</td>\n",
       "      <td>RED</td>\n",
       "      <td>17</td>\n",
       "      <td>-2.05</td>\n",
       "      <td>T</td>\n",
       "      <td>2</td>\n",
       "      <td>25</td>\n",
       "      <td>0</td>\n",
       "      <td>XLEVEL</td>\n",
       "    </tr>\n",
       "    <tr>\n",
       "      <th>7470</th>\n",
       "      <td>7496</td>\n",
       "      <td>1</td>\n",
       "      <td>1.02746</td>\n",
       "      <td>0</td>\n",
       "      <td>2011-04-18 00:00:00</td>\n",
       "      <td>799</td>\n",
       "      <td>GEO504</td>\n",
       "      <td>YEL</td>\n",
       "      <td>11</td>\n",
       "      <td>-1.9</td>\n",
       "      <td>T</td>\n",
       "      <td>2</td>\n",
       "      <td>25</td>\n",
       "      <td>25</td>\n",
       "      <td>XLEVEL</td>\n",
       "    </tr>\n",
       "    <tr>\n",
       "      <th>17759</th>\n",
       "      <td>17785</td>\n",
       "      <td>1</td>\n",
       "      <td>1.04867</td>\n",
       "      <td>0</td>\n",
       "      <td>2008-05-07 00:00:00</td>\n",
       "      <td>22318</td>\n",
       "      <td>GEO107</td>\n",
       "      <td>RED</td>\n",
       "      <td>23</td>\n",
       "      <td>-2.35</td>\n",
       "      <td>T</td>\n",
       "      <td>2</td>\n",
       "      <td>25</td>\n",
       "      <td>25</td>\n",
       "      <td>XLEVEL</td>\n",
       "    </tr>\n",
       "    <tr>\n",
       "      <th>22333</th>\n",
       "      <td>22359</td>\n",
       "      <td>4</td>\n",
       "      <td>1.07576</td>\n",
       "      <td>0</td>\n",
       "      <td>2007-09-20 00:00:00</td>\n",
       "      <td>49038</td>\n",
       "      <td>GEO105</td>\n",
       "      <td>RED</td>\n",
       "      <td>23</td>\n",
       "      <td>2.2</td>\n",
       "      <td>T</td>\n",
       "      <td>2</td>\n",
       "      <td>20</td>\n",
       "      <td>0</td>\n",
       "      <td>XLEVEL</td>\n",
       "    </tr>\n",
       "  </tbody>\n",
       "</table>\n",
       "</div>"
      ],
      "text/plain": [
       "       index LINE_SEG_NBR MILEPOST TRACK_SDTK_NBR              TEST_DT  \\\n",
       "603      629            4   0.7089              0  2013-04-10 00:00:00   \n",
       "4722    4748            1  0.80701              0  2012-04-20 00:00:00   \n",
       "4721    4747            1  0.81667              0  2012-04-20 00:00:00   \n",
       "21570  21596            1  0.87332              0  2007-06-22 00:00:00   \n",
       "3535    3561            1        1              0  2013-11-14 00:00:00   \n",
       "22212  22238            1        1              0  2007-08-23 00:00:00   \n",
       "3536    3562            1  1.01458              0  2013-11-14 00:00:00   \n",
       "7470    7496            1  1.02746              0  2011-04-18 00:00:00   \n",
       "17759  17785            1  1.04867              0  2008-05-07 00:00:00   \n",
       "22333  22359            4  1.07576              0  2007-09-20 00:00:00   \n",
       "\n",
       "      DEF_NBR GEO_CAR_NME DEF_PRTY DEF_LGTH DEF_AMPLTD TSC_CD CLASS TEST_FSPD  \\\n",
       "603      1951      GEO 27      YEL        7       1.84      T     2        20   \n",
       "4722    14795      GEO107      YEL        7      -1.88      T     2        25   \n",
       "4721    14794      GEO107      YEL       17         -2      T     2        25   \n",
       "21570   40105      GEO107      YEL       12      -1.86      T     2        25   \n",
       "3535    83707      GEO107      YEL       22      -1.97      T     2        25   \n",
       "22212   51462      GEO107      YEL       13      -1.91      T     2        25   \n",
       "3536    83708      GEO107      RED       17      -2.05      T     2        25   \n",
       "7470      799      GEO504      YEL       11       -1.9      T     2        25   \n",
       "17759   22318      GEO107      RED       23      -2.35      T     2        25   \n",
       "22333   49038      GEO105      RED       23        2.2      T     2        20   \n",
       "\n",
       "      TEST_PSPD DFCT_TYPE  \n",
       "603           0    XLEVEL  \n",
       "4722          0    XLEVEL  \n",
       "4721          0    XLEVEL  \n",
       "21570         0    XLEVEL  \n",
       "3535          0    XLEVEL  \n",
       "22212         0    XLEVEL  \n",
       "3536          0    XLEVEL  \n",
       "7470         25    XLEVEL  \n",
       "17759        25    XLEVEL  \n",
       "22333         0    XLEVEL  "
      ]
     },
     "execution_count": 9,
     "metadata": {},
     "output_type": "execute_result"
    }
   ],
   "source": [
    "#Sort train_data by MILEPOST\n",
    "train_data = train_data.sort_values(by=['MILEPOST'])\n",
    "train_data.head(10)"
   ]
  },
  {
   "cell_type": "code",
   "execution_count": 10,
   "metadata": {},
   "outputs": [],
   "source": [
    "##Round MILEPOST to nearest 0.1\n",
    "#df['DataFrame Column'] = df['DataFrame Column'].astype(float)\n",
    "train_data['MILEPOST'] = train_data['MILEPOST'].astype(float)\n",
    "train_data = train_data.round({'MILEPOST':1})"
   ]
  },
  {
   "cell_type": "markdown",
   "metadata": {},
   "source": [
    "### 1.2 Turn string to numeric "
   ]
  },
  {
   "cell_type": "code",
   "execution_count": 11,
   "metadata": {},
   "outputs": [
    {
     "name": "stdout",
     "output_type": "stream",
     "text": [
      "After:\n",
      "index                      int64\n",
      "LINE_SEG_NBR               int64\n",
      "MILEPOST                 float64\n",
      "TRACK_SDTK_NBR             int64\n",
      "TEST_DT           datetime64[ns]\n",
      "DEF_NBR                    int64\n",
      "GEO_CAR_NME               object\n",
      "DEF_PRTY                   int64\n",
      "DEF_LGTH                   int64\n",
      "DEF_AMPLTD               float64\n",
      "TSC_CD                    object\n",
      "CLASS                      int64\n",
      "TEST_FSPD                  int64\n",
      "TEST_PSPD                  int64\n",
      "DFCT_TYPE                 object\n",
      "dtype: object\n",
      "\n"
     ]
    }
   ],
   "source": [
    "## Turn other critical value to numerical\n",
    "#print(\"Before:\\n\"+str(train_data.dtypes))\n",
    "col_numeric = ['LINE_SEG_NBR','TRACK_SDTK_NBR','DEF_NBR','DEF_LGTH','DEF_AMPLTD','CLASS','TEST_FSPD','TEST_PSPD']\n",
    "for col in col_numeric:\n",
    "    train_data[col] = pd.to_numeric(train_data[col],errors='coerce')\n",
    "     \n",
    "train_data=train_data.replace(to_replace='YEL',value = 0)\n",
    "train_data=train_data.replace(to_replace='RED',value = 1)\n",
    "        \n",
    "print(\"After:\\n\"+str(train_data.dtypes)+'\\n')\n"
   ]
  },
  {
   "cell_type": "markdown",
   "metadata": {},
   "source": [
    "### 1.3 Separate Data according to defect types"
   ]
  },
  {
   "cell_type": "code",
   "execution_count": 12,
   "metadata": {},
   "outputs": [
    {
     "name": "stdout",
     "output_type": "stream",
     "text": [
      "['XLEVEL' 'DIP' 'SURFACE']\n"
     ]
    }
   ],
   "source": [
    "#Types of defect categories\n",
    "defects = train_data['DFCT_TYPE'].unique()\n",
    "print(defects)\n",
    "Train_dict={}"
   ]
  },
  {
   "cell_type": "code",
   "execution_count": 13,
   "metadata": {},
   "outputs": [
    {
     "name": "stdout",
     "output_type": "stream",
     "text": [
      "XLEVEL 11909\n",
      "DIP 4361\n",
      "SURFACE 7577\n"
     ]
    }
   ],
   "source": [
    "for i in defects:\n",
    "    Train_dict[i] = train_data.loc[train_data['DFCT_TYPE']==i]\n",
    "    print(i,len(Train_dict[i]))\n"
   ]
  },
  {
   "cell_type": "markdown",
   "metadata": {},
   "source": [
    "### 2. XLEVEL - Meta Features"
   ]
  },
  {
   "cell_type": "code",
   "execution_count": 14,
   "metadata": {},
   "outputs": [],
   "source": [
    "#METAFEATURES = ['DEF_NBR', 'DEF_PRTY', 'DEF_LGTH',\n",
    "#       'DEF_AMPLTD','TEST_FSPD', 'TEST_PSPD']\n",
    "METAFEATURES = ['DEF_NBR','TEST_FSPD','TEST_PSPD','DEF_AMPLTD','DEF_LGTH']\n",
    "data = Train_dict['XLEVEL']\n",
    "RED = train_data['DEF_PRTY'] == 1\n",
    "#Shuttle data\n",
    "data = data.sample(frac = 1) \n"
   ]
  },
  {
   "cell_type": "markdown",
   "metadata": {},
   "source": [
    "####  2.1 Stratification by target ('DEF_PRTY')\n",
    "The data needs to be stratification by 'DEF_PRTY' in cross-validation"
   ]
  },
  {
   "cell_type": "code",
   "execution_count": 15,
   "metadata": {},
   "outputs": [
    {
     "name": "stdout",
     "output_type": "stream",
     "text": [
      "Number of RED tage: 4068 \n",
      "\n",
      "Number of YEL tage: 7841\n"
     ]
    },
    {
     "data": {
      "text/plain": [
       "<matplotlib.axes._subplots.AxesSubplot at 0x7fe223ea8550>"
      ]
     },
     "execution_count": 15,
     "metadata": {},
     "output_type": "execute_result"
    },
    {
     "data": {
      "image/png": "[encoded data removed]",
      "text/plain": [
       "<Figure size 1700x400 with 2 Axes>"
      ]
     },
     "metadata": {
      "needs_background": "light"
     },
     "output_type": "display_data"
    }
   ],
   "source": [
    "print(\"Number of RED tage:\", len(data.loc[RED]),'\\n')\n",
    "print(\"Number of YEL tage:\", len(data.loc[~RED]))\n",
    "fig, axes = plt.subplots(ncols=2, figsize=(17, 4), dpi=100)\n",
    "plt.tight_layout()\n",
    "data.groupby('DEF_PRTY').count()['index'].plot(kind='pie',ax = axes[0])\n",
    "sns.countplot(x = data['DEF_PRTY'])"
   ]
  },
  {
   "cell_type": "code",
   "execution_count": 16,
   "metadata": {},
   "outputs": [],
   "source": [
    "# test = pd.read_excel('./DatasetSample/Data/Testing.xlsx')\n",
    "# for col in col_numeric:\n",
    "#     test[col] = pd.to_numeric(test[col],errors='coerce')"
   ]
  },
  {
   "cell_type": "markdown",
   "metadata": {},
   "source": [
    "### 2.2 Pick the features that actually work"
   ]
  },
  {
   "cell_type": "markdown",
   "metadata": {},
   "source": [
    "All of the meta features have information about target as well, but some of them are not good enough such as:\n",
    "- TEST_FSPD"
   ]
  },
  {
   "cell_type": "code",
   "execution_count": 17,
   "metadata": {},
   "outputs": [
    {
     "data": {
      "image/png": "[encoded data removed]",
      "text/plain": [
       "<Figure size 500x1000 with 5 Axes>"
      ]
     },
     "metadata": {
      "needs_background": "light"
     },
     "output_type": "display_data"
    }
   ],
   "source": [
    "fig,axes = plt.subplots(ncols = 1, nrows = len(METAFEATURES),figsize = (10,20),dpi = 50)\n",
    "\n",
    "#sns.distplot(data.loc[~RED]['TRACK_SDTK_NBR'],label = 'YEL',ax = axes[0],color='green')\n",
    "\n",
    "for i,feature in enumerate(METAFEATURES):\n",
    "    sns.distplot(data.loc[~RED][feature],label = 'YELLOW',ax = axes[i],color = 'green')\n",
    "    sns.distplot(data.loc[RED][feature],label='RED',ax = axes[i],color = 'red')\n",
    "    #sns.distplot(data[feature])\n",
    "    axes[0].set_xlabel('')\n",
    "    axes[0].tick_params(axis='x', labelsize=14)\n",
    "    axes[0].tick_params(axis='y', labelsize=14)\n",
    "    axes[0].legend() \n",
    "    \n",
    "    axes[i].set_title(f'{feature} Target Distribution in Training Set', fontsize=13)\n",
    "plt.show()\n",
    "    "
   ]
  },
  {
   "cell_type": "markdown",
   "metadata": {},
   "source": [
    "### 3.- Statistic Models\n"
   ]
  },
  {
   "cell_type": "markdown",
   "metadata": {},
   "source": [
    "#### 3.1 Evenly distribute and shuffle the data"
   ]
  },
  {
   "cell_type": "code",
   "execution_count": 18,
   "metadata": {},
   "outputs": [],
   "source": [
    "from sklearn.model_selection import train_test_split\n",
    "#0.33 of the data is used for training, returns x & y\n",
    "train,test = train_test_split(data,test_size=0.33,random_state = 42)"
   ]
  },
  {
   "cell_type": "code",
   "execution_count": 19,
   "metadata": {},
   "outputs": [
    {
     "name": "stdout",
     "output_type": "stream",
     "text": [
      "2711\n"
     ]
    }
   ],
   "source": [
    "train_red = train.loc[RED]\n",
    "train_yel = train.loc[~RED]\n",
    "train_yel_shrunk = train_yel[:len(train_red)]\n",
    "#print(len(train_red)+len(test.loc[RED]))\n",
    "print(len(train_red))\n",
    "train_final = pd.concat([train_red,train_yel_shrunk])\n",
    "train_final = train_final.sample(frac=1)"
   ]
  },
  {
   "cell_type": "markdown",
   "metadata": {},
   "source": [
    "### 3.2 Single Model\n"
   ]
  },
  {
   "cell_type": "code",
   "execution_count": 21,
   "metadata": {},
   "outputs": [],
   "source": [
    "from sklearn.model_selection import cross_val_score\n",
    "from sklearn.tree import DecisionTreeClassifier\n",
    "from sklearn.linear_model import LogisticRegression\n",
    "from sklearn.metrics import f1_score"
   ]
  },
  {
   "cell_type": "code",
   "execution_count": 86,
   "metadata": {},
   "outputs": [
    {
     "name": "stdout",
     "output_type": "stream",
     "text": [
      "Shape of training data: (5422, 4)\n",
      "Shape of test data: (3930,)\n"
     ]
    }
   ],
   "source": [
    "X_col = ['TEST_PSPD','DEF_NBR','DEF_AMPLTD','DEF_LGTH']\n",
    "Y_col = 'DEF_PRTY'\n",
    "\n",
    "train_x,test_x = train_final[X_col],test[X_col]\n",
    "print(\"Shape of training data:\",train_x.shape)\n",
    "\n",
    "train_y,test_y = train_final[Y_col],test[Y_col]\n",
    "print(\"Shape of test data:\",test_y.shape)\n",
    "X = train_x.to_numpy()\n",
    "Y = train_y.to_numpy()"
   ]
  },
  {
   "cell_type": "markdown",
   "metadata": {},
   "source": [
    "### SVM"
   ]
  },
  {
   "cell_type": "code",
   "execution_count": 88,
   "metadata": {},
   "outputs": [
    {
     "data": {
      "text/plain": [
       "array([0.88568608, 0.79284436])"
      ]
     },
     "execution_count": 88,
     "metadata": {},
     "output_type": "execute_result"
    }
   ],
   "source": [
    "from sklearn.pipeline import make_pipeline\n",
    "from sklearn.preprocessing import StandardScaler\n",
    "from sklearn.svm import SVC\n",
    "\n",
    "clf = make_pipeline(StandardScaler(), SVC(gamma='auto')) \n",
    "clf.fit(X, Y)\n",
    "f1_score(test_y,clf.predict(test_x),average = None)\n"
   ]
  },
  {
   "cell_type": "markdown",
   "metadata": {},
   "source": [
    "### Decision Tree (Accuracy > 90%)"
   ]
  },
  {
   "cell_type": "code",
   "execution_count": 22,
   "metadata": {},
   "outputs": [
    {
     "data": {
      "text/plain": [
       "DecisionTreeClassifier(ccp_alpha=0.0, class_weight=None, criterion='gini',\n",
       "                       max_depth=None, max_features=None, max_leaf_nodes=None,\n",
       "                       min_impurity_decrease=0.0, min_impurity_split=None,\n",
       "                       min_samples_leaf=1, min_samples_split=2,\n",
       "                       min_weight_fraction_leaf=0.0, presort='deprecated',\n",
       "                       random_state=0, splitter='best')"
      ]
     },
     "execution_count": 22,
     "metadata": {},
     "output_type": "execute_result"
    }
   ],
   "source": [
    "clf_tree = DecisionTreeClassifier(random_state = 0)\n",
    "clf_tree.fit(X,Y)"
   ]
  },
  {
   "cell_type": "code",
   "execution_count": 48,
   "metadata": {},
   "outputs": [
    {
     "data": {
      "text/plain": [
       "array([0.97432883, 0.95248458])"
      ]
     },
     "execution_count": 48,
     "metadata": {},
     "output_type": "execute_result"
    }
   ],
   "source": [
    "# F1 scores\n",
    "f1_score(test_y,clf_tree.predict(test_x),average = None)\n"
   ]
  },
  {
   "cell_type": "markdown",
   "metadata": {},
   "source": [
    "### Logistic Regression (Not recommended)"
   ]
  },
  {
   "cell_type": "code",
   "execution_count": 25,
   "metadata": {},
   "outputs": [
    {
     "data": {
      "text/plain": [
       "LogisticRegression(C=1.0, class_weight=None, dual=False, fit_intercept=True,\n",
       "                   intercept_scaling=1, l1_ratio=None, max_iter=100,\n",
       "                   multi_class='auto', n_jobs=None, penalty='l2',\n",
       "                   random_state=None, solver='lbfgs', tol=0.0001, verbose=0,\n",
       "                   warm_start=False)"
      ]
     },
     "execution_count": 25,
     "metadata": {},
     "output_type": "execute_result"
    }
   ],
   "source": [
    "clf_log = LogisticRegression()\n",
    "clf_log.fit(train_x, train_y)"
   ]
  },
  {
   "cell_type": "markdown",
   "metadata": {},
   "source": [
    "### 3.3 Ensemble Models"
   ]
  },
  {
   "cell_type": "markdown",
   "metadata": {},
   "source": [
    "#### Random Forest Regression ( ~90%)"
   ]
  },
  {
   "cell_type": "code",
   "execution_count": 27,
   "metadata": {},
   "outputs": [
    {
     "data": {
      "text/plain": [
       "RandomForestRegressor(bootstrap=True, ccp_alpha=0.0, criterion='mse',\n",
       "                      max_depth=8, max_features='auto', max_leaf_nodes=None,\n",
       "                      max_samples=None, min_impurity_decrease=0.0,\n",
       "                      min_impurity_split=None, min_samples_leaf=1,\n",
       "                      min_samples_split=2, min_weight_fraction_leaf=0.0,\n",
       "                      n_estimators=100, n_jobs=None, oob_score=False,\n",
       "                      random_state=0, verbose=0, warm_start=False)"
      ]
     },
     "execution_count": 27,
     "metadata": {},
     "output_type": "execute_result"
    }
   ],
   "source": [
    "from sklearn.ensemble import RandomForestRegressor\n",
    "regr = RandomForestRegressor(max_depth=8, random_state=0)\n",
    "regr.fit(X,Y)\n"
   ]
  },
  {
   "cell_type": "markdown",
   "metadata": {},
   "source": [
    "#### *** Bagging meta-estimator\n",
    "\n",
    "In ensemble algorithms, baggind methods form a class of algorithms which build several instances of a black-box estimator on random subsets of the original training set and then aggregate their individual predictions to form a final prediction\n",
    "- Reduce the variance of a base estimator\n",
    "- Reduce overfitting\n",
    "- works well on complex model\n",
    "\n",
    "After using bagging method on Decision tree classifier, the accuracy increaced one percent."
   ]
  },
  {
   "cell_type": "code",
   "execution_count": 29,
   "metadata": {},
   "outputs": [
    {
     "data": {
      "text/plain": [
       "BaggingClassifier(base_estimator=DecisionTreeClassifier(ccp_alpha=0.0,\n",
       "                                                        class_weight=None,\n",
       "                                                        criterion='gini',\n",
       "                                                        max_depth=None,\n",
       "                                                        max_features=None,\n",
       "                                                        max_leaf_nodes=None,\n",
       "                                                        min_impurity_decrease=0.0,\n",
       "                                                        min_impurity_split=None,\n",
       "                                                        min_samples_leaf=1,\n",
       "                                                        min_samples_split=2,\n",
       "                                                        min_weight_fraction_leaf=0.0,\n",
       "                                                        presort='deprecated',\n",
       "                                                        random_state=None,\n",
       "                                                        splitter='best'),\n",
       "                  bootstrap=True, bootstrap_features=False, max_features=4,\n",
       "                  max_samples=0.2, n_estimators=12, n_jobs=None,\n",
       "                  oob_score=False, random_state=None, verbose=0,\n",
       "                  warm_start=False)"
      ]
     },
     "execution_count": 29,
     "metadata": {},
     "output_type": "execute_result"
    }
   ],
   "source": [
    "from sklearn.ensemble import BaggingClassifier\n",
    "\n",
    "bagging = BaggingClassifier(DecisionTreeClassifier(),n_estimators=12,\n",
    "                             max_samples=0.2, max_features=4)\n",
    "bagging.fit(X,Y)"
   ]
  },
  {
   "cell_type": "code",
   "execution_count": 47,
   "metadata": {},
   "outputs": [
    {
     "data": {
      "text/plain": [
       "array([0.97831608, 0.95950383])"
      ]
     },
     "execution_count": 47,
     "metadata": {},
     "output_type": "execute_result"
    }
   ],
   "source": [
    "f1_score(test_y,bagging.predict(test_x),average = None)"
   ]
  },
  {
   "cell_type": "markdown",
   "metadata": {},
   "source": [
    "#### Voting ensemble for classification\n",
    "\n",
    "Voting is one of the simplest ways of combining the predictions from multiple machine learning algorithms"
   ]
  },
  {
   "cell_type": "code",
   "execution_count": 31,
   "metadata": {},
   "outputs": [],
   "source": [
    "from sklearn.ensemble import VotingClassifier"
   ]
  },
  {
   "cell_type": "code",
   "execution_count": 92,
   "metadata": {},
   "outputs": [
    {
     "data": {
      "text/plain": [
       "VotingClassifier(estimators=[('Decision tree',\n",
       "                              DecisionTreeClassifier(ccp_alpha=0.0,\n",
       "                                                     class_weight=None,\n",
       "                                                     criterion='gini',\n",
       "                                                     max_depth=None,\n",
       "                                                     max_features=None,\n",
       "                                                     max_leaf_nodes=None,\n",
       "                                                     min_impurity_decrease=0.0,\n",
       "                                                     min_impurity_split=None,\n",
       "                                                     min_samples_leaf=1,\n",
       "                                                     min_samples_split=2,\n",
       "                                                     min_weight_fraction_leaf=0.0,\n",
       "                                                     presort='deprecated',\n",
       "                                                     random_state=None,\n",
       "                                                     splitter='best')),\n",
       "                             ('SVC...\n",
       "                                               StandardScaler(copy=True,\n",
       "                                                              with_mean=True,\n",
       "                                                              with_std=True)),\n",
       "                                              ('svc',\n",
       "                                               SVC(C=1.0, break_ties=False,\n",
       "                                                   cache_size=200,\n",
       "                                                   class_weight=None, coef0=0.0,\n",
       "                                                   decision_function_shape='ovr',\n",
       "                                                   degree=3, gamma='auto',\n",
       "                                                   kernel='rbf', max_iter=-1,\n",
       "                                                   probability=False,\n",
       "                                                   random_state=None,\n",
       "                                                   shrinking=True, tol=0.001,\n",
       "                                                   verbose=False))],\n",
       "                                       verbose=False))],\n",
       "                 flatten_transform=True, n_jobs=None, voting='hard',\n",
       "                 weights=None)"
      ]
     },
     "execution_count": 92,
     "metadata": {},
     "output_type": "execute_result"
    }
   ],
   "source": [
    "estimators = [\n",
    "              (\"Decision tree\",DecisionTreeClassifier()),\n",
    "             (\"SVC\",clf)\n",
    "             ]\n",
    "Voting = VotingClassifier(estimators)\n",
    "Voting.fit(X,Y)\n"
   ]
  },
  {
   "cell_type": "code",
   "execution_count": 93,
   "metadata": {},
   "outputs": [
    {
     "data": {
      "text/plain": [
       "array([0.9388516 , 0.86858974])"
      ]
     },
     "execution_count": 93,
     "metadata": {},
     "output_type": "execute_result"
    }
   ],
   "source": [
    "f1_score(test_y,Voting.predict(test_x),average = None)"
   ]
  },
  {
   "cell_type": "markdown",
   "metadata": {},
   "source": [
    "#### Computing accuracy \n",
    "\n"
   ]
  },
  {
   "cell_type": "code",
   "execution_count": 94,
   "metadata": {},
   "outputs": [
    {
     "name": "stdout",
     "output_type": "stream",
     "text": [
      "The cross-validation score of SVC is:\n",
      "0.8371442175251247 \n",
      "\n",
      "The accuracy-score score of SVC is:\n",
      "0.8526717557251908 \n",
      "\n",
      "The cross-validation score of Random forest is:\n",
      "0.9230499751621991 \n",
      "\n",
      "The cross-validation score of Decision Tree is:\n",
      "0.9688300712500213 \n",
      "\n",
      "The accuracy-score score of Decision Tree is:\n",
      "0.9666666666666667 \n",
      "\n",
      "The cross-validation score of bagging is:\n",
      "0.9739959528627544 \n",
      "\n",
      "The accuracy-score score of bagging is:\n",
      "0.9717557251908397 \n",
      "\n",
      "The cross-validation score of Voting is:\n",
      "0.8838054993453162 \n",
      "\n",
      "The accuracy-score score of Voting is:\n",
      "0.9165394402035624 \n",
      "\n"
     ]
    }
   ],
   "source": [
    "from sklearn.metrics import accuracy_score\n",
    "\n",
    "models = {\"SVC\":clf,\"Random forest\":regr, \"Decision Tree\":clf_tree,\n",
    "          \"bagging\":bagging, \"Voting\":Voting}\n",
    "for k,v in models.items():\n",
    "    print(\"The cross-validation score of\" ,k, \"is:\")\n",
    "    print(cross_val_score(v, train_x, train_y, cv=5).mean(),\"\\n\")\n",
    "    \n",
    "    #print(accuracy_score(test_y, v.predict(test_x)))\n",
    "    if k == \"Random forest\":\n",
    "        continue\n",
    "    print(\"The accuracy-score score of\" ,k, \"is:\")\n",
    "    print(accuracy_score(test_y,v.predict(test_x)),\"\\n\")\n",
    "    "
   ]
  }
 ],
 "metadata": {
  "kernelspec": {
   "display_name": "Python 3",
   "language": "python",
   "name": "python3"
  },
  "language_info": {
   "codemirror_mode": {
    "name": "ipython",
    "version": 3
   },
   "file_extension": ".py",
   "mimetype": "text/x-python",
   "name": "python",
   "nbconvert_exporter": "python",
   "pygments_lexer": "ipython3",
   "version": "3.7.6"
  }
 },
 "nbformat": 4,
 "nbformat_minor": 4
}
